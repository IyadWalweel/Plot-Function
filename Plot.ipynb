{
 "cells": [
  {
   "cell_type": "code",
   "execution_count": 1,
   "id": "ad385e0c",
   "metadata": {},
   "outputs": [],
   "source": [
    "from matplotlib import pyplot as plt"
   ]
  },
  {
   "cell_type": "code",
   "execution_count": 2,
   "id": "2e179029",
   "metadata": {},
   "outputs": [],
   "source": [
    "def plot(L1, lab1, L2, lab2, title, ylabel1 = None, ylabel2 = None, xlabel = 'Iteration'):\n",
    "    \n",
    "    if (ylabel2 == None): \n",
    "        plt.close()\n",
    "        plt.semilogy(L1, color = 'red', label = lab1)\n",
    "        plt.semilogy(L2, color = 'blue', label = lab2)\n",
    "        plt.xlabel(xlabel, fontsize = 15)\n",
    "        plt.ylabel(ylabel1, fontsize = 15)\n",
    "        plt.title(title, fontsize = 17)\n",
    "        plt.grid(which = 'both')\n",
    "        plt.legend(loc='upper right', fancybox=True, prop={'size':13}).get_frame().set_alpha(0.4)\n",
    "        plt.show()\n",
    "    else: \n",
    "    # First Figure \n",
    "        plt.close()\n",
    "        plt.semilogy(L1, color = 'red', label = lab1)\n",
    "        plt.xlabel(xlabel, fontsize = 15)\n",
    "        plt.ylabel(ylabel1, fontsize = 15)\n",
    "        plt.title(title, fontsize = 17)\n",
    "        plt.grid(which = 'both')\n",
    "        plt.legend(loc='upper right', fancybox=True, prop={'size':13}).get_frame().set_alpha(0.4)\n",
    "        plt.show()\n",
    "    # Second Figure \n",
    "        plt.close()\n",
    "        plt.semilogy(L2, color = 'blue', label = lab2)\n",
    "        plt.xlabel(xlabel, fontsize = 15)\n",
    "        plt.ylabel(ylabel2, fontsize = 15)\n",
    "        plt.title(title, fontsize = 17)\n",
    "        plt.grid(which = 'both')\n",
    "        plt.legend(loc='upper right', fancybox=True, prop={'size':13}).get_frame().set_alpha(0.4)\n",
    "        plt.show()"
   ]
  },
  {
   "cell_type": "code",
   "execution_count": null,
   "id": "6a19e0df",
   "metadata": {},
   "outputs": [],
   "source": []
  }
 ],
 "metadata": {
  "kernelspec": {
   "display_name": "Python 3 (ipykernel)",
   "language": "python",
   "name": "python3"
  },
  "language_info": {
   "codemirror_mode": {
    "name": "ipython",
    "version": 3
   },
   "file_extension": ".py",
   "mimetype": "text/x-python",
   "name": "python",
   "nbconvert_exporter": "python",
   "pygments_lexer": "ipython3",
   "version": "3.9.7"
  }
 },
 "nbformat": 4,
 "nbformat_minor": 5
}
